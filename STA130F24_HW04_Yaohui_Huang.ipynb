{
 "cells": [
  {
   "cell_type": "markdown",
   "id": "957b6904",
   "metadata": {},
   "source": [
    "#### Question 1"
   ]
  },
  {
   "cell_type": "markdown",
   "id": "3df22485",
   "metadata": {},
   "source": [
    "The \"standard error of mean (SEM)\" and the \"standard deviation (SD)\" are both a measurement to variability of data. The standard deviation method measures the spread of data in sample or population around the mean of the dataset, which tells how much datapoints will deviate from the mean. This method is usually used to quantify the variability within the dataset. The standard error of the mean is a measuremnt of the precision of the estimation on the population mean based on analyzing the sample mean, which tells how much the sample mean is expected to deviate from the population mean after taking multiple samples. This method is used to introduce the accurancy of the estimation on the population mean, it decreases as the sample size increases. The SEM will usually be smaller than the SD. \n",
    "\n",
    "The standard deviation captures the inherent spread of dispersion of the values within the dataset, which reflects the natural variability. The STand error of the mean captures the percision or reliability of the sample mean when estimating the population mean, which reflects how the sample represents the population."
   ]
  },
  {
   "cell_type": "markdown",
   "id": "0ca4b5d9",
   "metadata": {},
   "source": [
    "https://chatgpt.com/share/66f9d5b8-c618-800c-b117-887542c1bee0\n",
    "\n",
    "This session covered the differences between **standard deviation (SD)** and **standard error of the mean (SEM)**. SD measures the **spread or variability** of data points within a dataset, while SEM assesses the **precision** of the sample mean as an estimate of the population mean. \n",
    "\n",
    "Additionally, the concept of **dispersion** was explained, referring to the spread of data points around a central value. Key measures of dispersion such as **range**, **variance**, **standard deviation**, **interquartile range (IQR)**, and **mean absolute deviation (MAD)** were outlined, each providing insights into how data is distributed. Dispersion helps in understanding data variability, consistency, and potential outliers."
   ]
  },
  {
   "cell_type": "markdown",
   "id": "b482099b",
   "metadata": {},
   "source": [
    "#### Question 2"
   ]
  },
  {
   "cell_type": "markdown",
   "id": "4e953676",
   "metadata": {},
   "source": [
    "When creating the confidence interval using SEM, the first thing to do is to collect the bootstrapped sample means by generating bootstrapped samples from the original dataset and resample them. The next step is to calculate the mean of bootstrapped sample means. This is the cnter point of the confidence interval and provides estimation of the population mean. Next, calculate the SEM, this step tells you how much the bootstarpped sample means vary from the average. The fourth step is to get the 95% confidence interval by using the cirtical Z value. The critical value tells how far to go from the mean to capture 95% of the bootstrapped sample means. In this case, we take Z = 1.96 since we need 95% of the data lies within 1.96 SD from the mean. The last setp to do is the interpretation, which tells that this confidence interval would include the true population mean. "
   ]
  },
  {
   "cell_type": "markdown",
   "id": "48659ca0",
   "metadata": {},
   "source": [
    "https://chatgpt.com/share/66f9db40-64c4-800c-ade3-225c6d2f7654\n",
    "\n",
    "In this session, the discussion focused on how to apply the **standard error of the mean (SEM)** to construct a **95% confidence interval** for bootstrapped sample means. Key points covered include:\n",
    "\n",
    "1. **Bootstrapping** involves creating multiple resamples from a dataset to generate estimates of the sample means.\n",
    "2. The **standard error of the mean (SEM)** quantifies the variability among these bootstrapped sample means, helping to assess the precision of the estimated population mean.\n",
    "3. A **critical Z-value of 1.96** is used for a 95% confidence interval because it captures 95% of the data under the standard normal distribution.\n",
    "4. The formula for the confidence interval is: \\( \\text{CI} = \\bar{X}_{\\text{bootstrap}} \\pm 1.96 \\times \\text{SEM} \\), which produces a range expected to contain the true population mean in 95% of cases.\n",
    "\n",
    "The explanation also clarified why \\( Z = 1.96 \\) is chosen for the confidence interval and how this interval reflects uncertainty in the sample mean estimation."
   ]
  },
  {
   "cell_type": "markdown",
   "id": "1003c5bb",
   "metadata": {},
   "source": [
    "#### Question 3"
   ]
  },
  {
   "cell_type": "markdown",
   "id": "424586c4",
   "metadata": {},
   "source": [
    "In order to create a 95% bootstrapped confidence interval without using the SD method, the percentile method should be applied. The first step is to generate bootstrp samples, which is almost the same procedure with the SD method. Next, compute means for each bootstrap samples. Calculate the sample mean for each bootstrap sample in order to get the distribution of bootstrapped sample means. Then, sort the bootstrapped sample means in ascending order. The fourth step is to determine the percentile, which can be completed by excluding 2.5% from both ends of the distribution. The 2.5th and 97.5th percentiles represents the lower and upper bounds of the confidence interval."
   ]
  },
  {
   "cell_type": "markdown",
   "id": "e76182e6",
   "metadata": {},
   "source": [
    "#### Question 4"
   ]
  },
  {
   "cell_type": "code",
   "execution_count": 15,
   "id": "741ca49d",
   "metadata": {},
   "outputs": [
    {
     "name": "stdout",
     "output_type": "stream",
     "text": [
      "95% Bootstrap Confidence Interval mean: (81.75, 86.5)\n"
     ]
    }
   ],
   "source": [
    "# Imports the numpy library\n",
    "import numpy as np\n",
    "\n",
    "# Defines the function bootstrp_cofidence_interval which calculates the boot strap confidence interval\n",
    "# Parameter 'data' is the array of the sample data \n",
    "# Parameter 'n_bootstraps' is the number of bootstrap resamples, which has a default value of 10000\n",
    "# Parameter 'confidence_level' is the expected confidence level, which has a default value of 0.95\n",
    "def bootstrap_confidence_interval(data, n_bootstraps=10000, confidence_level=0.95):\n",
    "    \n",
    "    # Step 1: Generate bootstrap samples\n",
    "    # This part of the code generates 10000 resamples (defined by 'n_bootstraps') from the original data array\n",
    "    # 'replace = True' means that it is possible for the same value to appear multiple times in the same resample\n",
    "    # '.mean(axis=1)' calculates the mean of each bootstrap samples along axis = 1\n",
    "    # 'bootstrapped_meams' stores the means from all the bootstrap samples\n",
    "    bootstrapped_means = np.mean(np.random.choice(data, size=(n_bootstraps, len(data)), replace=True), axis=1)\n",
    "        \n",
    "        # Changes to make \n",
    "            # In order to change the function to produce bootstrap confidence interval for different parameter\n",
    "            # We change the 'Step 1: Generate bootstrap samples' for bootstrap_confidence_interval\n",
    "    \n",
    "            # Bootstrap confidence interval for median\n",
    "            # bootstrapped_medians = np.median(np.random.choice(data, size=(n_bootstraps, len(data)), replace=True), axis=1)\n",
    "            # '.mean(axis=1)' is replaced by '.median(axis=1)', which calculates the median of each bootstrap sample\n",
    "            \n",
    "            # Bootstrap confidence interval for variance\n",
    "            # Replace '.mean(axis=1)' by '.var(axis=1)', which calculates the variance of each bootstrap sample\n",
    "            \n",
    "            # Bootstrap confidence interval for the Standard Deviation\n",
    "            # Replace '.mean(axis=1)' by '.std(axis=1)', which calculates the SD of each bootstrap sample\n",
    "    \n",
    "    # Step 2: Compute the confidence interval\n",
    "    # Calculate the confidence interval's lower bound((1 - 0.95)/2 = 2.5%)\n",
    "    lower_percentile = (1 - confidence_level) / 2\n",
    "    # Calculate the confidence interval's upper bound(100% - 2.5% = 97.5%)\n",
    "    upper_percentile = 1 - lower_percentile\n",
    "    # Explores the value in 'bootstrapped_means' at the lower_percentile (2.5%)\n",
    "    ci_lower = np.percentile(bootstrapped_means, lower_percentile * 100)\n",
    "    # Explores the value in 'bootstrapped_means' at the higher_percentile (97.5%)\n",
    "    ci_upper = np.percentile(bootstrapped_means, upper_percentile * 100)\n",
    "    \n",
    "    # Return the lower and upper bounds of the confidence interval\n",
    "    return ci_lower, ci_upper\n",
    "\n",
    "# Example for bootstrap_confidence_interval for mean\n",
    "data = np.array([82, 75, 88, 90, 78, 85, 92, 76, 89, 84, 91, 87, 77, 93, 80, 82, 79, 88, 86, 81]) # Sample data\n",
    "confidence_interval = bootstrap_confidence_interval(data)\n",
    "print(f\"95% Bootstrap Confidence Interval mean: {confidence_interval}\")"
   ]
  },
  {
   "cell_type": "markdown",
   "id": "1787b039",
   "metadata": {},
   "source": [
    "https://chatgpt.com/share/66fa0823-3c90-800c-a3cb-e70e9f749e40\n",
    "\n",
    "### Session Summary:\n",
    "\n",
    "1. **Bootstrap Confidence Intervals**: We started by discussing a Python function that generates a **95% bootstrap confidence interval** for the population mean based on a sample. The function works by generating bootstrap resamples, calculating the mean of each, and then computing the confidence interval from the percentiles of the resampled means.\n",
    "\n",
    "2. **Adapting for Other Statistics**: The core bootstrap method can easily be adapted to compute confidence intervals for other statistics like the **median**, **variance**, and **standard deviation**. The only change required is how the statistic is calculated from each bootstrap sample:\n",
    "   - For the **median**, use `np.median`.\n",
    "   - For the **variance**, use `np.var`.\n",
    "   - For the **standard deviation**, use `np.std`.\n",
    "\n",
    "3. **Code Explanation**: We broke down the original code line-by-line, explaining how the bootstrap resampling works, how the percentiles are calculated, and how the confidence interval is returned.\n",
    "\n",
    "4. **Sample Dataset**: A sample dataset of test scores was provided for practical use in the bootstrap confidence interval calculations.\n",
    "\n",
    "5. **Summary of Changes**: The statistical function used (mean, median, variance, etc.) changes depending on the parameter of interest, but the bootstrap methodology remains consistent.\n",
    "\n"
   ]
  },
  {
   "cell_type": "markdown",
   "id": "ee8739a4",
   "metadata": {},
   "source": [
    "#### Question 5"
   ]
  },
  {
   "cell_type": "markdown",
   "id": "435ee2e8",
   "metadata": {},
   "source": [
    "It is curcial to distinguish between population parameters and sample statistics for confidence interval questions due to the difference between their concepts in statistics. The population paratmeter is a fixed, unkown value that discribes the keypoint values for the whole population; in contrast, a sample statistic is a value calculated from a sample of data, which is only part of the whole population which estimates the population parameter. There are three important points why the distinction matters in confidence interval questions, including the purpose of confidence interval, uncertainty in estimation and sampling variablility. A confidence interval is introduced to estimate the range of the unkonw population parameter based on part of the sample data. In another word, we can't ensure the part of the sample data gathered from the population is able to represent the population data precisely. "
   ]
  },
  {
   "cell_type": "markdown",
   "id": "4b89f69c",
   "metadata": {},
   "source": [
    "https://chatgpt.com/share/66fb1708-439c-800c-8fad-e3aead2e7692\n",
    "\n",
    "In this session, the distinction between population parameters and sample statistics was discussed, focusing on their roles in confidence intervals. Population parameters are fixed, often unknown values that describe characteristics of the entire population, such as the population mean or proportion. Sample statistics, on the other hand, are calculated from a sample and serve as estimates of these parameters. Confidence intervals provide a range of plausible values for the population parameter, accounting for the uncertainty that arises from using sample data to estimate population characteristics. This distinction is fundamental to making accurate statistical inferences about a population based on sample data."
   ]
  },
  {
   "cell_type": "markdown",
   "id": "d20fc38d",
   "metadata": {},
   "source": [
    "#### Question 6"
   ]
  },
  {
   "cell_type": "markdown",
   "id": "35a85d9f",
   "metadata": {},
   "source": [
    "1). \\\n",
    "Bootstrap is a technique applied to simulated sample datas in the way of replacing and resampling. The simulated samples are named \"bootstrap samples.\", which are created for estimation of the distribution of a statistic about the underlying population. The method is often used when estimating the variablility or confidence intervals for parameters of a datset when the sample size is either too small for analyzing precisely or impossible to analyze the entire population distribution(Ex. the distribution is too complex or unknown). The steps of bootstrap includes original sample, resampling, computing statistic, repeat, estimate distribution, confidence intervals and interpretation. \n",
    "\n",
    "2). \\\n",
    "The most important purpose of bootstrap is quantify the uncertainty by estimating the distribution of a statistic from a sample gathered from the specific population. There are some more other purposes, such as estimation of variability and confidence interval, hypothesis testing and model validation. \n",
    "\n",
    "3). \\\n",
    "To access whether or not hypothesized guess of the population mean is pausible, the first step to take is to state the hypothesis. For example, state a null hypothesis of mean which mathces your guessed value and also state a alternative hypothesis which does not match to your value. The next step is to resample with bootstrapping, which is done by the steps introduced above(randomly resample from the orgin sample with the same size for each bootstrap sample). Next, calculate the mean for each bootstrap sample and get the bootstrap distribution of sample means. Then, construct the percentile confidence interval using the mean value from the last step. The last step is to compared the hypothesized mean to the confidence interval to check whether it falls inside or outside the interval. If it falls inside the confidence interval, the hypothesized mean would be pausible; if not, then it is not pausible."
   ]
  },
  {
   "cell_type": "markdown",
   "id": "5aae9935",
   "metadata": {},
   "source": [
    "https://chatgpt.com/share/66fc2488-6618-800c-9e2f-7458e606cdb3\n",
    "\n",
    "In this session, bootstrapping was explained as a statistical technique that involves resampling from a dataset to estimate the distribution of a statistic. The primary purpose of bootstrapping is to assess the variability and uncertainty of estimates, construct confidence intervals, and test hypotheses, especially when the underlying population distribution is unknown.\n",
    "\n",
    "Additionally, the process of using bootstrapping to assess the plausibility of a hypothesized population mean was outlined. By generating a bootstrap distribution of sample means and comparing the hypothesized mean to the confidence interval of the bootstrap distribution, it is possible to determine whether the hypothesized mean is consistent with the observed data. If the hypothesized mean lies outside the confidence interval, it is likely not plausible."
   ]
  },
  {
   "cell_type": "markdown",
   "id": "fb62eced",
   "metadata": {},
   "source": [
    "#### Question 7"
   ]
  },
  {
   "cell_type": "markdown",
   "id": "2516ab51",
   "metadata": {},
   "source": [
    "The reason why a confidence interval overlapping zero \"fail to reject the null hypothesis\" when the observed sample mean statistic itself is not zero:\n",
    "In this case, the nul hypothesis states that the population mean is 0. In addtion, the confidence interval provides a range of value that are likely to contain the true population mean in sort of confidence. If this confidence interval contains zero, then zero is a pausible value for the population mean, this implies that the observed effect might not be statistically different from zero, which leads to a failure to reject the null hypothesis since the confidence interval does not provide a strong evidence of the population differs from the hypothesized mean. Therefore, if a confidence interval spans on both side of zero, there is enough uncertainty that zero could be the true mean even if zero itself is not sample mean.\n",
    "\n",
    "\n",
    "Things would lead to the opposite conclusion in this context:\n",
    "If the confidence intervals does not include the hypothesized mean, then the true population mean would be significantly different from the hypothesized mean.\n",
    "\n",
    "\n"
   ]
  },
  {
   "cell_type": "markdown",
   "id": "85578fc8",
   "metadata": {},
   "source": [
    "https://chatgpt.com/share/66fc2a72-6130-800c-8389-9812ce12f96b\n",
    "\n",
    "A confidence interval overlapping zero indicates that zero is a plausible value for the population parameter, which supports the null hypothesis, suggesting no significant effect. Even if the observed sample mean is not zero, the inclusion of zero in the confidence interval means that the data does not provide sufficient evidence to conclude a statistically significant difference from zero.\n",
    "\n",
    "Conversely, when the confidence interval does not include zero, the data suggests that the population parameter is significantly different from zero, leading to a rejection of the null hypothesis. This occurs when the confidence interval lies entirely above or below zero, implying a significant effect."
   ]
  },
  {
   "cell_type": "markdown",
   "id": "99acc0e1",
   "metadata": {},
   "source": [
    "#### Question 8"
   ]
  },
  {
   "cell_type": "markdown",
   "id": "31c60f5b",
   "metadata": {},
   "source": [
    "Introduction:\n",
    "The task is to determine whether the new vaccine is effective. \\\n",
    "The null hypothesis is set to NO EFFEECT on health care. \n",
    "\n",
    "Explanation:\n",
    "Since the null hypothesis asserts that the vaccine does not cause any difference on health scores, it implies the mean difference between the initial and final scores is zero, in another word, the confidence interval should not overlapping zero. "
   ]
  },
  {
   "cell_type": "code",
   "execution_count": 3,
   "id": "3272d9d1",
   "metadata": {},
   "outputs": [
    {
     "data": {
      "image/png": "[encoded data removed]",
      "text/plain": [
       "<Figure size 1000x600 with 1 Axes>"
      ]
     },
     "metadata": {},
     "output_type": "display_data"
    },
    {
     "data": {
      "image/png": "[encoded data removed]",
      "text/plain": [
       "<Figure size 1000x600 with 1 Axes>"
      ]
     },
     "metadata": {},
     "output_type": "display_data"
    }
   ],
   "source": [
    "import pandas as pd\n",
    "import matplotlib.pyplot as plt\n",
    "\n",
    "# Read in the data\n",
    "data = pd.read_csv('vaccine_data.csv')\n",
    "\n",
    "# Create visualizations\n",
    "plt.figure(figsize=(10, 6))\n",
    "plt.boxplot([data['InitialHealthScore'], data['FinalHealthScore']], labels=['Initial', 'Final'])\n",
    "plt.title('Health Scores Before and After Vaccine')\n",
    "plt.ylabel('Health Score')\n",
    "plt.show()\n",
    "\n",
    "# Scatter plot of Initial vs. Final Health Score\n",
    "plt.figure(figsize=(10, 6))\n",
    "plt.scatter(data['InitialHealthScore'], data['FinalHealthScore'], color='blue')\n",
    "plt.plot([70, 90], [70, 90], color='red', linestyle='--')  # Line of no change\n",
    "plt.title('Initial vs. Final Health Scores')\n",
    "plt.xlabel('Initial Health Score')\n",
    "plt.ylabel('Final Health Score')\n",
    "plt.show()\n"
   ]
  },
  {
   "cell_type": "code",
   "execution_count": 4,
   "id": "b9a3d0db",
   "metadata": {},
   "outputs": [
    {
     "name": "stdout",
     "output_type": "stream",
     "text": [
      "T-statistic: 2.5900615612703937, P-value: 0.02921052381549256\n"
     ]
    }
   ],
   "source": [
    "from scipy.stats import ttest_rel\n",
    "\n",
    "# Calculate the differences\n",
    "data['Difference'] = data['FinalHealthScore'] - data['InitialHealthScore']\n",
    "\n",
    "# Paired t-test\n",
    "t_stat, p_value = ttest_rel(data['FinalHealthScore'], data['InitialHealthScore'])\n",
    "print(f'T-statistic: {t_stat}, P-value: {p_value}')\n"
   ]
  },
  {
   "cell_type": "code",
   "execution_count": 5,
   "id": "4ada11ba",
   "metadata": {},
   "outputs": [
    {
     "name": "stdout",
     "output_type": "stream",
     "text": [
      "95% Confidence Interval for the mean difference: [0.7 5.5]\n",
      "Bootstrapped Mean Difference: 3.3075\n"
     ]
    }
   ],
   "source": [
    "import numpy as np\n",
    "\n",
    "# Set a random seed for reproducibility\n",
    "np.random.seed(42)\n",
    "\n",
    "# Function to perform bootstrap sampling\n",
    "def bootstrap_means(data, n_iterations=1000):\n",
    "    means = []\n",
    "    for _ in range(n_iterations):\n",
    "        sample = np.random.choice(data['Difference'], size=len(data), replace=True)\n",
    "        means.append(np.mean(sample))\n",
    "    return np.percentile(means, [2.5, 97.5]), np.mean(means)\n",
    "\n",
    "# Bootstrap analysis\n",
    "ci, mean_difference = bootstrap_means(data)\n",
    "print(f'95% Confidence Interval for the mean difference: {ci}')\n",
    "print(f'Bootstrapped Mean Difference: {mean_difference}')\n"
   ]
  },
  {
   "cell_type": "markdown",
   "id": "5da4ac6f",
   "metadata": {},
   "source": [
    "Findings: \\\n",
    "As shown on the graph, the mean of the final health score has improved by 3.3075 comparing to the original data with a 95% confidence interval for the mean difference not overalapping zero. "
   ]
  },
  {
   "cell_type": "markdown",
   "id": "9e13b3d3",
   "metadata": {},
   "source": [
    "Conclusion: \\\n",
    "Since the mean of the final health score improves and the CI for the improvement does not overlap zero, the new vaccine is effective to imporve the health situation."
   ]
  },
  {
   "cell_type": "markdown",
   "id": "42004203",
   "metadata": {},
   "source": [
    "https://chatgpt.com/share/66fc2a72-6130-800c-8389-9812ce12f96b\n",
    "\n",
    "In this session, the approach to the Vaccine Data Analysis Assignment was outlined. The problem centers around evaluating the effectiveness of AliTech's new vaccine by analyzing changes in health scores before and after vaccination. The null hypothesis posits that the vaccine has no effect, meaning there is no significant change in health scores. \n",
    "\n",
    "Steps were provided to visually compare initial and final health scores, including using box plots, scatter plots, and bar charts. Quantitative analysis methods, such as the paired t-test and bootstrapping, were explained to assess statistical significance. Sample code was provided for both data visualization and analysis.\n",
    "\n",
    "Additionally, instructions were given on how to create a CSV file containing the provided dataset using Python and the pandas library. This session established a clear structure for the analysis and report, emphasizing clarity in methodology and interpretation of results."
   ]
  },
  {
   "cell_type": "markdown",
   "id": "9493b28b",
   "metadata": {},
   "source": [
    "#### Question 9"
   ]
  },
  {
   "cell_type": "markdown",
   "id": "d9f34a09",
   "metadata": {},
   "source": [
    "Yes. "
   ]
  },
  {
   "cell_type": "markdown",
   "id": "c70935aa",
   "metadata": {},
   "source": [
    "### Chatlog Histories"
   ]
  },
  {
   "cell_type": "markdown",
   "id": "b3560861",
   "metadata": {},
   "source": [
    "https://chatgpt.com/share/66f9d5b8-c618-800c-b117-887542c1bee0\n",
    "This session covered the differences between standard deviation (SD) and standard error of the mean (SEM). SD measures the spread or variability of data points within a dataset, while SEM assesses the precision of the sample mean as an estimate of the population mean.\n",
    "Additionally, the concept of dispersion was explained, referring to the spread of data points around a central value. Key measures of dispersion such as range, variance, standard deviation, interquartile range (IQR), and mean absolute deviation (MAD) were outlined, each providing insights into how data is distributed. Dispersion helps in understanding data variability, consistency, and potential outliers.\n",
    "\n",
    "https://chatgpt.com/share/66f9db40-64c4-800c-ade3-225c6d2f7654\n",
    "In this session, the discussion focused on how to apply the standard error of the mean (SEM) to construct a 95% confidence interval for bootstrapped sample means. Key points covered include:\n",
    "Bootstrapping involves creating multiple resamples from a dataset to generate estimates of the sample means.\n",
    "The standard error of the mean (SEM) quantifies the variability among these bootstrapped sample means, helping to assess the precision of the estimated population mean.\n",
    "A critical Z-value of 1.96 is used for a 95% confidence interval because it captures 95% of the data under the standard normal distribution.\n",
    "The formula for the confidence interval is: ( \\text{CI} = \\bar{X}_{\\text{bootstrap}} \\pm 1.96 \\times \\text{SEM} ), which produces a range expected to contain the true population mean in 95% of cases.\n",
    "The explanation also clarified why ( Z = 1.96 ) is chosen for the confidence interval and how this interval reflects uncertainty in the sample mean estimation.\n",
    "\n",
    "https://chatgpt.com/share/66fa0823-3c90-800c-a3cb-e70e9f749e40\n",
    "Session Summary:\n",
    "Bootstrap Confidence Intervals: We started by discussing a Python function that generates a 95% bootstrap confidence interval for the population mean based on a sample. The function works by generating bootstrap resamples, calculating the mean of each, and then computing the confidence interval from the percentiles of the resampled means.\n",
    "Adapting for Other Statistics: The core bootstrap method can easily be adapted to compute confidence intervals for other statistics like the median, variance, and standard deviation. The only change required is how the statistic is calculated from each bootstrap sample:\n",
    "For the median, use np.median.\n",
    "For the variance, use np.var.\n",
    "For the standard deviation, use np.std.\n",
    "Code Explanation: We broke down the original code line-by-line, explaining how the bootstrap resampling works, how the percentiles are calculated, and how the confidence interval is returned.\n",
    "Sample Dataset: A sample dataset of test scores was provided for practical use in the bootstrap confidence interval calculations.\n",
    "Summary of Changes: The statistical function used (mean, median, variance, etc.) changes depending on the parameter of interest, but the bootstrap methodology remains consistent.\n",
    "\n",
    "https://chatgpt.com/share/66fa0823-3c90-800c-a3cb-e70e9f749e40\n",
    "Session Summary:\n",
    "Bootstrap Confidence Intervals: We started by discussing a Python function that generates a 95% bootstrap confidence interval for the population mean based on a sample. The function works by generating bootstrap resamples, calculating the mean of each, and then computing the confidence interval from the percentiles of the resampled means.\n",
    "Adapting for Other Statistics: The core bootstrap method can easily be adapted to compute confidence intervals for other statistics like the median, variance, and standard deviation. The only change required is how the statistic is calculated from each bootstrap sample:\n",
    "For the median, use np.median.\n",
    "For the variance, use np.var.\n",
    "For the standard deviation, use np.std.\n",
    "Code Explanation: We broke down the original code line-by-line, explaining how the bootstrap resampling works, how the percentiles are calculated, and how the confidence interval is returned.\n",
    "Sample Dataset: A sample dataset of test scores was provided for practical use in the bootstrap confidence interval calculations.\n",
    "Summary of Changes: The statistical function used (mean, median, variance, etc.) changes depending on the parameter of interest, but the bootstrap methodology remains consistent.\n",
    "\n",
    "https://chatgpt.com/share/66fb1708-439c-800c-8fad-e3aead2e7692\n",
    "In this session, the distinction between population parameters and sample statistics was discussed, focusing on their roles in confidence intervals. Population parameters are fixed, often unknown values that describe characteristics of the entire population, such as the population mean or proportion. Sample statistics, on the other hand, are calculated from a sample and serve as estimates of these parameters. Confidence intervals provide a range of plausible values for the population parameter, accounting for the uncertainty that arises from using sample data to estimate population characteristics. This distinction is fundamental to making accurate statistical inferences about a population based on sample data.\n",
    "\n",
    "https://chatgpt.com/share/66fc2488-6618-800c-9e2f-7458e606cdb3\n",
    "In this session, bootstrapping was explained as a statistical technique that involves resampling from a dataset to estimate the distribution of a statistic. The primary purpose of bootstrapping is to assess the variability and uncertainty of estimates, construct confidence intervals, and test hypotheses, especially when the underlying population distribution is unknown.\n",
    "Additionally, the process of using bootstrapping to assess the plausibility of a hypothesized population mean was outlined. By generating a bootstrap distribution of sample means and comparing the hypothesized mean to the confidence interval of the bootstrap distribution, it is possible to determine whether the hypothesized mean is consistent with the observed data. If the hypothesized mean lies outside the confidence interval, it is likely not plausible.\n",
    "\n",
    "https://chatgpt.com/share/66fc2488-6618-800c-9e2f-7458e606cdb3\n",
    "In this session, bootstrapping was explained as a statistical technique that involves resampling from a dataset to estimate the distribution of a statistic. The primary purpose of bootstrapping is to assess the variability and uncertainty of estimates, construct confidence intervals, and test hypotheses, especially when the underlying population distribution is unknown.\n",
    "Additionally, the process of using bootstrapping to assess the plausibility of a hypothesized population mean was outlined. By generating a bootstrap distribution of sample means and comparing the hypothesized mean to the confidence interval of the bootstrap distribution, it is possible to determine whether the hypothesized mean is consistent with the observed data. If the hypothesized mean lies outside the confidence interval, it is likely not plausible.\n",
    "\n",
    "https://chatgpt.com/share/66fc2a72-6130-800c-8389-9812ce12f96b\n",
    "In this session, the approach to the Vaccine Data Analysis Assignment was outlined. The problem centers around evaluating the effectiveness of AliTech's new vaccine by analyzing changes in health scores before and after vaccination. The null hypothesis posits that the vaccine has no effect, meaning there is no significant change in health scores.\n",
    "Steps were provided to visually compare initial and final health scores, including using box plots, scatter plots, and bar charts. Quantitative analysis methods, such as the paired t-test and bootstrapping, were explained to assess statistical significance. Sample code was provided for both data visualization and analysis.\n",
    "Additionally, instructions were given on how to create a CSV file containing the provided dataset using Python and the pandas library. This session established a clear structure for the analysis and report, emphasizing clarity in methodology and interpretation of results."
   ]
  }
 ],
 "metadata": {
  "kernelspec": {
   "display_name": "Python 3 (ipykernel)",
   "language": "python",
   "name": "python3"
  },
  "language_info": {
   "codemirror_mode": {
    "name": "ipython",
    "version": 3
   },
   "file_extension": ".py",
   "mimetype": "text/x-python",
   "name": "python",
   "nbconvert_exporter": "python",
   "pygments_lexer": "ipython3",
   "version": "3.11.6"
  }
 },
 "nbformat": 4,
 "nbformat_minor": 5
}
