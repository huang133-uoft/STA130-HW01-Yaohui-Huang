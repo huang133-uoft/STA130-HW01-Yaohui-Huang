{
 "cells": [
  {
   "cell_type": "markdown",
   "id": "524f817a",
   "metadata": {},
   "source": [
    "#### Question 2"
   ]
  },
  {
   "cell_type": "markdown",
   "id": "5db3a2de",
   "metadata": {},
   "source": [
    "I perfferd the code improved by the chatbot. The original code created a complex logic when it comes to identifying and selecting the doors. The new code avoids to remove elemnts from the list by using the list comprehensions method to filter it. This makes the logic of the code much more clear and easy to understand. Additionaly, the chatbot simplified the variavble names, which also improved its readiblility."
   ]
  },
  {
   "cell_type": "markdown",
   "id": "c0e2bd3a",
   "metadata": {},
   "source": [
    "#### Question 3"
   ]
  },
  {
   "cell_type": "code",
   "execution_count": 2,
   "id": "bdc335fb",
   "metadata": {},
   "outputs": [
    {
     "name": "stdout",
     "output_type": "stream",
     "text": [
      "0.668\n"
     ]
    }
   ],
   "source": [
    "import numpy as np\n",
    "\n",
    "# Initialize variables (I want to repeat the loop for 100000 times)\n",
    "reps = 100000\n",
    "# Initialize variables (the total wins)\n",
    "i_won = 0\n",
    "\n",
    "# \"_\" is used as a placeholder for loop variable, it repeats the loop for \"reps\" times\n",
    "for _ in range(reps):\n",
    "    # Randomly assign the winning door amoung the 3 doors\n",
    "    winning_door = np.random.choice([1, 2, 3])\n",
    "    # Randomly assign the player's choice amoung the 3 doors\n",
    "    player_choice = np.random.choice([1, 2, 3])\n",
    "\n",
    "    # There are remaining goat doors which is not one of the winning door or player's choice\n",
    "    remaining_doors = [door for door in [1, 2, 3] if door != winning_door and door != player_choice]\n",
    "    # Host reveals a goat door from the remaining (not the winning door or player's choice)\n",
    "    host_reveal = np.random.choice(remaining_doors)\n",
    "\n",
    "    # Player always switches to the other unopened door\n",
    "    switch_choice = [door for door in [1, 2, 3] if door != player_choice and door != host_reveal][0]\n",
    "\n",
    "    # Check if the switched door is the winning door\n",
    "    if switch_choice == winning_door:\n",
    "        # If the switched door is the winning door, then total wins plus one\n",
    "        i_won += 1\n",
    "\n",
    "# Calculate and print the probability of winning by switching\n",
    "print(i_won / reps)\n"
   ]
  },
  {
   "cell_type": "markdown",
   "id": "321efaf6",
   "metadata": {},
   "source": [
    "#### Chatlog history"
   ]
  },
  {
   "cell_type": "markdown",
   "id": "66adc182",
   "metadata": {},
   "source": [
    "https://chatgpt.com/share/66e78e2f-ab88-800c-8d25-2fe4c66842d9\n",
    "\n",
    "The chat session focused on analyzing and improving a Python simulation of the Monty Hall problem. The provided code was reviewed, explaining its structure and logic in detail, including how it simulates the game and calculates the probability of winning by switching doors.\n",
    "\n",
    "A more streamlined version of the simulation was suggested, simplifying the door reveal process, removing unnecessary list operations, and using list comprehensions for better clarity.\n",
    "\n",
    "The explanation of the for _ in range(reps): loop was also provided, clarifying that the underscore is a placeholder for the loop variable when it isn't needed in the loop.\n",
    "\n",
    "The session aimed to make the code more efficient and easier to understand while maintaining the original logic."
   ]
  },
  {
   "cell_type": "markdown",
   "id": "3bf0f1c8",
   "metadata": {},
   "source": [
    "#### Question 4"
   ]
  },
  {
   "cell_type": "markdown",
   "id": "20deed2d",
   "metadata": {},
   "source": [
    "https://chatgpt.com/share/66e7a827-7928-800c-82a9-99d6f3d5b7a0\n",
    "\n",
    "In this session, the focus was on creating a Markovian chatbot using Python code. The code initializes two dictionaries, `word_used` and `next_word`, to track word frequencies and word transitions, respectively. The `word_used` dictionary counts how often each word appears, while the `next_word` dictionary records the frequency of words following each word.\n",
    "\n",
    "The code provided populates these dictionaries by iterating over a list of words and updating the counts based on occurrences and transitions between words. The example demonstrated how the `next_word` dictionary might end up with empty entries for words that are at the end of the sequence, as there are no subsequent words to record as followers.\n",
    "\n",
    "Additionally, a function to generate text based on the Markov model was discussed. This function uses the `next_word` dictionary to probabilistically choose the next word in a sequence, starting from a given word. The text generation process stops when the desired length is reached or when there are no more words to follow."
   ]
  },
  {
   "cell_type": "markdown",
   "id": "54d9ca39",
   "metadata": {},
   "source": [
    "#### Question 5.1 5.2"
   ]
  },
  {
   "cell_type": "markdown",
   "id": "5f93e0ba",
   "metadata": {},
   "source": [
    "https://chatgpt.com/share/66e8aa74-a9e8-800c-9669-f0c486c337bd\n",
    "\n",
    "Extension #1: Bigram Model\n",
    "The first extension upgraded the chatbot from a simple word-based model to a bigram model.\n",
    "Instead of predicting the next word based on just one word, the model now predicts based on pairs of words (bigrams).The data structures word_used2 and next_word2 track how often each bigram appears and what words follow each bigram, leading to more context-aware text generation.\n",
    "\n",
    "Extension #2: Character-Specific Bigram Model\n",
    "The second extension added character-specific dialogue modeling based on a dataset containing a character column.\n",
    "For each character, the model tracks the bigrams used in their dialogue and the words that follow those bigrams. This is stored in two nested dictionaries, word_used2C and next_word2C.\n",
    "This allows the chatbot to generate text in the style of specific characters, simulating their unique dialogue patterns.\n",
    "\n",
    "Both extensions improve the chatbot's ability to generate more coherent and contextually appropriate text, with the second one adding a layer of personalization based on character dialogue."
   ]
  },
  {
   "cell_type": "markdown",
   "id": "1de753ae",
   "metadata": {},
   "source": [
    "#### Question 5.3"
   ]
  },
  {
   "cell_type": "markdown",
   "id": "33486250",
   "metadata": {},
   "source": [
    "https://chatgpt.com/share/66e8ac0b-2380-800c-8aa4-2342ef7f3140\n",
    "\n",
    "In this session, two versions of code related to a Markovian chatbot were examined and compared:\n",
    "\n",
    "Original Code:\n",
    "Implements a basic Bigram Model that tracks transitions between pairs of consecutive words for simple text generation.\n",
    "\n",
    "Extension Code:\n",
    "Introduces a Character-Based Bigram Model, which organizes word transitions according to characters, allowing for character-specific text generation.\n",
    "Expands to a Trigram Model, tracking sequences of three words to predict the next word based on the preceding two-word context.\n",
    "Utilizes nested dictionaries to manage this more complex model, enhancing the ability to generate nuanced and contextually relevant text."
   ]
  },
  {
   "cell_type": "markdown",
   "id": "16bab83a",
   "metadata": {},
   "source": [
    "#### Question 6"
   ]
  },
  {
   "cell_type": "markdown",
   "id": "c684a544",
   "metadata": {},
   "source": [
    "1). The chatbot solves the problems about the Monte Hall and 'Markovian Chatbot' quickly and clearly. It can indentify and explain the codes detaily and gives useful information about each line. For example when analysing the 5.3 question; even if there's not much information provided, it can still indentify all the extensions and gives further suggestion. "
   ]
  },
  {
   "cell_type": "markdown",
   "id": "f5090140",
   "metadata": {},
   "source": [
    "2). Interacting with the chatbot does not make me feel frustrating or unhelpess; in fact, I think it helps me a lot about this course. It acts like an free online tutor who can always reply me in time and gives a further explaination when facing difficulties. "
   ]
  },
  {
   "cell_type": "markdown",
   "id": "ba5a4def",
   "metadata": {},
   "source": [
    "3). Based on my expriences, interacting with the chatbot helps a lot with the course work, espcially when I can't understanding the codes clearly, or having some errors and need a further suggestion about coding. As a learning tool, it can explain the course content in a concise way, which strongly improved the readibility of definitions and concepts. For example, it is able to identify the \"Markovian Chatbot\" coding and give a line by line explaination for the original code. Additionally, it generates an example using that original code to help me get better knowledge about that. It can also troubleshoot and give suggestions to the codes I provided, which is also helpful for this course. When I give a error message, it can quickly indentify the type of error and analyze the possible reasons for it. It is able to locate the line the error happens precisely and reduce time for troubleshooting. When I want a further suggestion about the coding, it is also able to help me. For example in the \"Monte Hall\" question, the chatbot can understand the logic of the orginal coding and provide a simplified version for that. Additionally, every time the chatbot wrote me something, it comes with its detaily explaination so I'm able to understand and improve from that."
   ]
  },
  {
   "cell_type": "markdown",
   "id": "2962bb64",
   "metadata": {},
   "source": [
    "#### Question 7"
   ]
  },
  {
   "cell_type": "markdown",
   "id": "3c955aa7",
   "metadata": {},
   "source": [
    "My perception of AI-driven assitence has been involving since joining the course. Before I attended this course and even before I started the first pre-lecuture homework, I was refused to use AI-related tool during my study. There are two mian reasons. The first is I'm afraid of getting into trouble such as plagiarizm or cheating; and the second is I believe using tools to help me with the course materials would make me lazy in my study. But after using ChatGPT to help me complete and understand the first week course work, my perception has been changed. Now I think AI-driven assistence has improved my efficiency and reduced the time wasted in study significantly. As long as students using AI assistance in the correct and controllable way, there will be huge benefits for them in their study life."
   ]
  },
  {
   "cell_type": "markdown",
   "id": "6a626462",
   "metadata": {},
   "source": [
    "#### Question 8"
   ]
  },
  {
   "cell_type": "markdown",
   "id": "f215251c",
   "metadata": {},
   "source": [
    "https://chatgpt.com/share/66e9b88a-dce4-800c-bdc0-c4908bb2ad2c\n",
    "\n",
    "This session explored the most valuable skills for different roles across industries. For a data analyst, interpreting data and communicating insights clearly was identified as the key skill, supported by technical abilities in tools like SQL and Excel, along with statistical knowledge. For an engineer, problem-solving emerged as the most crucial skill, requiring both technical expertise and critical thinking to devise innovative solutions. In the manufacturing industry, operational efficiency and process optimization are essential for managers, focusing on productivity, quality control, and cost reduction. Meanwhile, in the international goods trading sector, global supply chain management is vital, involving logistics, compliance with international regulations, and supplier coordination. Leadership, decision-making, and adaptability were highlighted as important skills across all these roles."
   ]
  },
  {
   "cell_type": "markdown",
   "id": "1f5ce290",
   "metadata": {},
   "source": [
    "8.4) \n",
    "\n",
    "There are few skills required to become a data scientist, including data interpretation and insight communication, data wrangling and cleaning, statistical and analytical skills, SQL, critical thinking and problem-solving, excel mastery, domain knowledge, and attsion to detail. For most of the careers related to data science industry, coding is always one of  the most valuable skills when talking about career development potential. This is the most important skill that I missing now. In addition, I'm also lack of \"domain knowledge\" and \"communication\" skills in order to become a data analysist. To build these missing skills in order to prepare for my career path, I'm considering to keep learning in data science related courses and participate in more group work activities. In addtion, I'm trying to learn furtehr knowledge about programming during my free time. "
   ]
  },
  {
   "cell_type": "markdown",
   "id": "0eaeff48",
   "metadata": {},
   "source": [
    "8.5)\n",
    "I think these ideas and knowledges provided by the chatbot are much too general in the real world. For example, everyone knows that communication is important for most of the jobs. These informations are useful to me, but the depth of conversation can not be compared with those real industry experts. For me, after communicate with the chatbot, I still hope to have a chance to chat with a practitioner for further information."
   ]
  },
  {
   "cell_type": "markdown",
   "id": "d724f693",
   "metadata": {},
   "source": [
    "#### Question 9"
   ]
  },
  {
   "cell_type": "markdown",
   "id": "74cf08ad",
   "metadata": {},
   "source": [
    "Yes"
   ]
  },
  {
   "cell_type": "markdown",
   "id": "e52dc454",
   "metadata": {},
   "source": [
    "#### Chatlog Histories"
   ]
  },
  {
   "cell_type": "markdown",
   "id": "ba062f67",
   "metadata": {},
   "source": [
    "https://chatgpt.com/share/66e78e2f-ab88-800c-8d25-2fe4c66842d9\n",
    "\n",
    "The chat session focused on analyzing and improving a Python simulation of the Monty Hall problem. The provided code was reviewed, explaining its structure and logic in detail, including how it simulates the game and calculates the probability of winning by switching doors.\n",
    "\n",
    "A more streamlined version of the simulation was suggested, simplifying the door reveal process, removing unnecessary list operations, and using list comprehensions for better clarity.\n",
    "\n",
    "The explanation of the for _ in range(reps): loop was also provided, clarifying that the underscore is a placeholder for the loop variable when it isn't needed in the loop.\n",
    "\n",
    "The session aimed to make the code more efficient and easier to understand while maintaining the original logic.\n",
    "\n",
    "https://chatgpt.com/share/66e7a827-7928-800c-82a9-99d6f3d5b7a0\n",
    "\n",
    "In this session, the focus was on creating a Markovian chatbot using Python code. The code initializes two dictionaries, `word_used` and `next_word`, to track word frequencies and word transitions, respectively. The `word_used` dictionary counts how often each word appears, while the `next_word` dictionary records the frequency of words following each word.\n",
    "\n",
    "The code provided populates these dictionaries by iterating over a list of words and updating the counts based on occurrences and transitions between words. The example demonstrated how the `next_word` dictionary might end up with empty entries for words that are at the end of the sequence, as there are no subsequent words to record as followers.\n",
    "\n",
    "Additionally, a function to generate text based on the Markov model was discussed. This function uses the `next_word` dictionary to probabilistically choose the next word in a sequence, starting from a given word. The text generation process stops when the desired length is reached or when there are no more words to follow.\n",
    "\n",
    "https://chatgpt.com/share/66e8aa74-a9e8-800c-9669-f0c486c337bd\n",
    "\n",
    "Extension #1: Bigram Model\n",
    "The first extension upgraded the chatbot from a simple word-based model to a bigram model.\n",
    "Instead of predicting the next word based on just one word, the model now predicts based on pairs of words (bigrams).The data structures word_used2 and next_word2 track how often each bigram appears and what words follow each bigram, leading to more context-aware text generation.\n",
    "\n",
    "Extension #2: Character-Specific Bigram Model\n",
    "The second extension added character-specific dialogue modeling based on a dataset containing a character column.\n",
    "For each character, the model tracks the bigrams used in their dialogue and the words that follow those bigrams. This is stored in two nested dictionaries, word_used2C and next_word2C.\n",
    "This allows the chatbot to generate text in the style of specific characters, simulating their unique dialogue patterns.\n",
    "\n",
    "Both extensions improve the chatbot's ability to generate more coherent and contextually appropriate text, with the second one adding a layer of personalization based on character dialogue.\n",
    "\n",
    "https://chatgpt.com/share/66e8ac0b-2380-800c-8aa4-2342ef7f3140\n",
    "\n",
    "In this session, two versions of code related to a Markovian chatbot were examined and compared:\n",
    "\n",
    "Original Code:\n",
    "Implements a basic Bigram Model that tracks transitions between pairs of consecutive words for simple text generation.\n",
    "\n",
    "Extension Code:\n",
    "Introduces a Character-Based Bigram Model, which organizes word transitions according to characters, allowing for character-specific text generation.\n",
    "Expands to a Trigram Model, tracking sequences of three words to predict the next word based on the preceding two-word context.\n",
    "Utilizes nested dictionaries to manage this more complex model, enhancing the ability to generate nuanced and contextually relevant text.\n",
    "\n",
    "https://chatgpt.com/share/66e9b88a-dce4-800c-bdc0-c4908bb2ad2c\n",
    "\n",
    "This session explored the most valuable skills for different roles across industries. For a data analyst, interpreting data and communicating insights clearly was identified as the key skill, supported by technical abilities in tools like SQL and Excel, along with statistical knowledge. For an engineer, problem-solving emerged as the most crucial skill, requiring both technical expertise and critical thinking to devise innovative solutions. In the manufacturing industry, operational efficiency and process optimization are essential for managers, focusing on productivity, quality control, and cost reduction. Meanwhile, in the international goods trading sector, global supply chain management is vital, involving logistics, compliance with international regulations, and supplier coordination. Leadership, decision-making, and adaptability were highlighted as important skills across all these roles."
   ]
  },
  {
   "cell_type": "code",
   "execution_count": null,
   "id": "09c2cda7",
   "metadata": {},
   "outputs": [],
   "source": []
  }
 ],
 "metadata": {
  "kernelspec": {
   "display_name": "Python 3 (ipykernel)",
   "language": "python",
   "name": "python3"
  },
  "language_info": {
   "codemirror_mode": {
    "name": "ipython",
    "version": 3
   },
   "file_extension": ".py",
   "mimetype": "text/x-python",
   "name": "python",
   "nbconvert_exporter": "python",
   "pygments_lexer": "ipython3",
   "version": "3.11.6"
  }
 },
 "nbformat": 4,
 "nbformat_minor": 5
}
